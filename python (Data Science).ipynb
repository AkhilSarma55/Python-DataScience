{
  "nbformat": 4,
  "nbformat_minor": 0,
  "metadata": {
    "colab": {
      "provenance": []
    },
    "kernelspec": {
      "name": "python3",
      "display_name": "Python 3"
    },
    "language_info": {
      "name": "python"
    }
  },
  "cells": [
    {
      "cell_type": "markdown",
      "source": [
        " 1.**Write a Python program to reverse a string without using any built-in string reversal functions.**"
      ],
      "metadata": {
        "id": "FBwZ--ySr0-e"
      }
    },
    {
      "cell_type": "code",
      "execution_count": 1,
      "metadata": {
        "colab": {
          "base_uri": "https://localhost:8080/"
        },
        "id": "RrByj6ITr0Kk",
        "outputId": "903594bc-9ff3-4825-86cc-71f7e3c4e966"
      },
      "outputs": [
        {
          "output_type": "stream",
          "name": "stdout",
          "text": [
            "Enter the string: Function\n",
            "The reverse string is noitcnuF\n"
          ]
        }
      ],
      "source": [
        "# Reverse a string in Python without using inbuilt function\n",
        "\n",
        "def findReverse(string):  #user-defined function\n",
        "   #find reverse of string\n",
        "   i = string\n",
        "   reverse = ''\n",
        "   while(len(i) > 0):\n",
        "      if(len(i) > 0):\n",
        "         a = i[-1]\n",
        "         i = i[:-1]\n",
        "         reverse += a\n",
        "   return reverse\n",
        "\n",
        "# take inputs\n",
        "string = input('Enter the string: ')\n",
        "\n",
        "# calling function and display result\n",
        "reverse = findReverse(string)\n",
        "print('The reverse string is', reverse)"
      ]
    },
    {
      "cell_type": "markdown",
      "source": [
        "2.**Implement a function to check if a given string is a palindrome.**"
      ],
      "metadata": {
        "id": "PBr-q-VLsKE3"
      }
    },
    {
      "cell_type": "code",
      "source": [
        "# function to check string is\n",
        "# palindrome or not\n",
        "def isPalindrome(s):\n",
        "\n",
        "    # Using predefined function to\n",
        "    # reverse to string print(s)\n",
        "    rev = ''.join(reversed(s))\n",
        "\n",
        "    # Checking if both string are\n",
        "    # equal or not\n",
        "    if (s == rev):\n",
        "        return True\n",
        "    return False\n",
        "\n",
        "# main function\n",
        "s = \"malayalam\"\n",
        "ans = isPalindrome(s)\n",
        "\n",
        "if (ans):\n",
        "    print(\"Yes\")\n",
        "else:\n",
        "    print(\"No\")"
      ],
      "metadata": {
        "colab": {
          "base_uri": "https://localhost:8080/"
        },
        "id": "bZTA8itCsQX8",
        "outputId": "4f3d1325-e64e-474f-e262-172f23736316"
      },
      "execution_count": 2,
      "outputs": [
        {
          "output_type": "stream",
          "name": "stdout",
          "text": [
            "Yes\n"
          ]
        }
      ]
    },
    {
      "cell_type": "markdown",
      "source": [
        "3.**Write a program to find the largest element in a given list.**"
      ],
      "metadata": {
        "id": "-Us7N7Zhs6Uu"
      }
    },
    {
      "cell_type": "code",
      "source": [
        "# Python program to find largest\n",
        "# number in a list\n",
        "\n",
        "# Creating an empty list\n",
        "list1 = []\n",
        "\n",
        "# asking number of elements to put in list\n",
        "num = int(input(\"Enter number of elements in list: \"))\n",
        "\n",
        "# Iterating till num to append elements in list\n",
        "for i in range(1, num + 1):\n",
        "    ele = int(input(\"Enter elements: \"))\n",
        "    list1.append(ele)\n",
        "\n",
        "# Printing maximum element\n",
        "print(\"Largest element is:\", max(list1))"
      ],
      "metadata": {
        "colab": {
          "base_uri": "https://localhost:8080/"
        },
        "id": "inXqwee5tCtZ",
        "outputId": "9d1fc581-50cb-4a96-c108-386d4de2baab"
      },
      "execution_count": 5,
      "outputs": [
        {
          "output_type": "stream",
          "name": "stdout",
          "text": [
            "Enter number of elements in list: 5\n",
            "Enter elements: 67\n",
            "Enter elements: 34\n",
            "Enter elements: 99\n",
            "Enter elements: 109\n",
            "Enter elements: 45\n",
            "Largest element is: 109\n"
          ]
        }
      ]
    },
    {
      "cell_type": "code",
      "source": [
        "# Python program to find largest\n",
        "# number in a list\n",
        "\n",
        "\n",
        "def myMax(list1):\n",
        "\n",
        "    # Assume first number in list is largest\n",
        "    # initially and assign it to variable \"max\"\n",
        "    max = list1[0]\n",
        "# Now traverse through the list and compare\n",
        "    # each number with \"max\" value. Whichever is\n",
        "    # largest assign that value to \"max'.\n",
        "    for x in list1:\n",
        "        if x > max:\n",
        "            max = x\n",
        "\n",
        "    # after complete traversing the list\n",
        "    # return the \"max\" value\n",
        "    return max\n",
        "\n",
        "\n",
        "# Driver code\n",
        "list1 = [10, 20, 4, 45, 99]\n",
        "print(\"Largest element is:\", myMax(list1))"
      ],
      "metadata": {
        "colab": {
          "base_uri": "https://localhost:8080/"
        },
        "id": "efOCeFX1tu3f",
        "outputId": "f8a3737f-89cc-4176-ea55-d339008c736d"
      },
      "execution_count": 6,
      "outputs": [
        {
          "output_type": "stream",
          "name": "stdout",
          "text": [
            "Largest element is: 99\n"
          ]
        }
      ]
    },
    {
      "cell_type": "markdown",
      "source": [
        "4. Implement a function to count the occurrence of each element in a list."
      ],
      "metadata": {
        "id": "DHmitnHMt4Mr"
      }
    },
    {
      "cell_type": "code",
      "source": [
        "\n",
        "# Python code to count the number of occurrences\n",
        "def countX(list, x):\n",
        "    count = 0\n",
        "    for ele in list:\n",
        "        if (ele == x):\n",
        "            count = count + 1\n",
        "    return count\n",
        "\n",
        "\n",
        "# Driver Code\n",
        "lst = [8, 6, 8, 10, 8,6, 20, 10, 8, 8]\n",
        "x = 8\n",
        "print('{} has occurred {} times'.format(x,\n",
        "                                        countX(lst, x)))"
      ],
      "metadata": {
        "colab": {
          "base_uri": "https://localhost:8080/"
        },
        "id": "DNNzkqPoc8m3",
        "outputId": "e2858c30-b4fd-45fc-8ee8-6fa13443dfe5"
      },
      "execution_count": 4,
      "outputs": [
        {
          "output_type": "stream",
          "name": "stdout",
          "text": [
            "8 has occurred 5 times\n"
          ]
        }
      ]
    },
    {
      "cell_type": "markdown",
      "source": [
        "5. Write a Python program to find the second largest number in a list."
      ],
      "metadata": {
        "id": "BulDG2FZc7fh"
      }
    },
    {
      "cell_type": "code",
      "source": [
        "def findLargest(arr):\n",
        "    secondLargest = 0\n",
        "    Largest = min(arr)\n",
        "\n",
        "    for i in range(len(arr)):\n",
        "        if arr[i] > Largest:\n",
        "            secondLargest = Largest\n",
        "            Largest = arr[i]\n",
        "        else:\n",
        "            secondLargest = max(secondLargest, arr[i])\n",
        "\n",
        "    # Returning second largest element\n",
        "    return secondLargest\n",
        "\n",
        "\n",
        "# Calling above method over this array set\n",
        "print(findLargest([10, 20, 4, 45, 99]))"
      ],
      "metadata": {
        "colab": {
          "base_uri": "https://localhost:8080/"
        },
        "id": "8t9CHNSzdX6e",
        "outputId": "2a1ec147-b522-4d64-ee65-746835cc0172"
      },
      "execution_count": 5,
      "outputs": [
        {
          "output_type": "stream",
          "name": "stdout",
          "text": [
            "45\n"
          ]
        }
      ]
    },
    {
      "cell_type": "markdown",
      "source": [
        "6. Implement a function to remove duplicate elements from a list."
      ],
      "metadata": {
        "id": "aCPQo0rZeNbZ"
      }
    },
    {
      "cell_type": "code",
      "source": [
        "from collections import defaultdict\n",
        "\n",
        "\n",
        "def default_value():\n",
        "    return 0\n",
        "\n",
        "\n",
        "# dict : maintain count of each element. with default value of key is 0\n",
        "mydict = defaultdict(default_value)\n",
        "\n",
        "# LIST\n",
        "l = [1, 2, 3, 2, 6, 3, 5, 3, 7, 8]\n",
        "\n",
        "for i in l:\n",
        "    # if the element already present in the array, remove the element.\n",
        "    if mydict[i] == 1:\n",
        "        l.remove(i)\n",
        "    # If the elements appears first time keep it count as 1\n",
        "    else:\n",
        "        mydict[i] = 1\n",
        "\n",
        "# printing the final array\n",
        "print(l)"
      ],
      "metadata": {
        "colab": {
          "base_uri": "https://localhost:8080/"
        },
        "id": "CJzVJeVGeOc7",
        "outputId": "f3593359-0437-4e31-aa09-22145bcc352f"
      },
      "execution_count": 6,
      "outputs": [
        {
          "output_type": "stream",
          "name": "stdout",
          "text": [
            "[1, 2, 6, 5, 3, 7, 8]\n"
          ]
        }
      ]
    },
    {
      "cell_type": "markdown",
      "source": [
        "7. Write a program to calculate the factorial of a given number.\n"
      ],
      "metadata": {
        "id": "MKcxLA8gejgM"
      }
    },
    {
      "cell_type": "code",
      "source": [
        "# Function to find factorial of given number\n",
        "def factorial(n):\n",
        "\n",
        "    if n == 0:\n",
        "        return 1\n",
        "\n",
        "    return n * factorial(n-1)\n",
        "\n",
        "# Driver Code\n",
        "num = 5;\n",
        "print(\"Factorial of\", num, \"is\",\n",
        "factorial(num))"
      ],
      "metadata": {
        "colab": {
          "base_uri": "https://localhost:8080/"
        },
        "id": "xj0c_HhwekVJ",
        "outputId": "17f2e47c-6414-43f8-950a-21a01695fefa"
      },
      "execution_count": 7,
      "outputs": [
        {
          "output_type": "stream",
          "name": "stdout",
          "text": [
            "Factorial of 5 is 120\n"
          ]
        }
      ]
    },
    {
      "cell_type": "markdown",
      "source": [
        "8. Implement a function to check if a given number is prime"
      ],
      "metadata": {
        "id": "SRCjCT2ie76c"
      }
    },
    {
      "cell_type": "code",
      "source": [
        "num = 11\n",
        "# If given number is greater than 1\n",
        "if num > 1:\n",
        "    # Iterate from 2 to n / 2\n",
        "    for i in range(2, int(num/2)+1):\n",
        "        # If num is divisible by any number between\n",
        "        # 2 and n / 2, it is not prime\n",
        "        if (num % i) == 0:\n",
        "            print(num, \"is not a prime number\")\n",
        "            break\n",
        "    else:\n",
        "        print(num, \"is a prime number\")\n",
        "else:\n",
        "    print(num, \"is not a prime number\")\n"
      ],
      "metadata": {
        "colab": {
          "base_uri": "https://localhost:8080/"
        },
        "id": "dp0hjaS7fpoA",
        "outputId": "d4582c72-ad0e-4b40-99cb-fe6a00b027e5"
      },
      "execution_count": 11,
      "outputs": [
        {
          "output_type": "stream",
          "name": "stdout",
          "text": [
            "11 is a prime number\n"
          ]
        }
      ]
    },
    {
      "cell_type": "markdown",
      "source": [
        "9. Write a Python program to sort a list of integers in ascending order.\n"
      ],
      "metadata": {
        "id": "hXQsS13mfsvP"
      }
    },
    {
      "cell_type": "code",
      "source": [
        "NumList = []\n",
        "\n",
        "Number = int(input(\"Please enter the Total Number of List Elements: \"))\n",
        "for i in range(1, Number + 1):\n",
        "    value = int(input(\"Please enter the Value of %d Element : \" %i))\n",
        "    NumList.append(value)\n",
        "\n",
        "NumList.sort()\n",
        "\n",
        "print(\"Element After Sorting List in Ascending Order is : \", NumList)"
      ],
      "metadata": {
        "colab": {
          "base_uri": "https://localhost:8080/"
        },
        "id": "nS2onIA0fy95",
        "outputId": "9d4648c8-5d39-47aa-c36a-706d41c0ee9d"
      },
      "execution_count": 12,
      "outputs": [
        {
          "output_type": "stream",
          "name": "stdout",
          "text": [
            "Please enter the Total Number of List Elements: 5\n",
            "Please enter the Value of 1 Element : 56\n",
            "Please enter the Value of 2 Element : 900\n",
            "Please enter the Value of 3 Element : 10000\n",
            "Please enter the Value of 4 Element : 345678\n",
            "Please enter the Value of 5 Element : 1\n",
            "Element After Sorting List in Ascending Order is :  [1, 56, 900, 10000, 345678]\n"
          ]
        }
      ]
    },
    {
      "cell_type": "markdown",
      "source": [
        "10. Implement a function to find the sum of all numbers in a list.\n"
      ],
      "metadata": {
        "id": "x4XbvoKpgHaP"
      }
    },
    {
      "cell_type": "code",
      "source": [
        "def sum(numbers):\n",
        "    total = 0\n",
        "    for x in numbers:\n",
        "        total += x\n",
        "    return total\n",
        "print(sum((8, 2, 3, 0, 7)))"
      ],
      "metadata": {
        "colab": {
          "base_uri": "https://localhost:8080/"
        },
        "id": "VMMhDo4HgmVr",
        "outputId": "e531e4c3-9a7c-408a-862f-5326e7bcc938"
      },
      "execution_count": 15,
      "outputs": [
        {
          "output_type": "stream",
          "name": "stdout",
          "text": [
            "20\n"
          ]
        }
      ]
    },
    {
      "cell_type": "markdown",
      "source": [
        "11. Write a program to find the common elements between two lists."
      ],
      "metadata": {
        "id": "ox0-CsG1gwJW"
      }
    },
    {
      "cell_type": "code",
      "source": [
        "a=[2,3,4,5]\n",
        "b=[3,5,7,9]\n",
        "def common(a,b):\n",
        "    c = [value for value in a if value in b]\n",
        "    return c\n",
        "d=common(a,b)\n",
        "print(d)"
      ],
      "metadata": {
        "colab": {
          "base_uri": "https://localhost:8080/"
        },
        "id": "BR5bkn13gz5R",
        "outputId": "48929545-21ae-4ae6-a1b3-e6d1207a0d61"
      },
      "execution_count": 16,
      "outputs": [
        {
          "output_type": "stream",
          "name": "stdout",
          "text": [
            "[3, 5]\n"
          ]
        }
      ]
    },
    {
      "cell_type": "markdown",
      "source": [
        "12. Implement a function to check if a given string is an anagram of another string."
      ],
      "metadata": {
        "id": "PDtfUFhbg9Lr"
      }
    },
    {
      "cell_type": "code",
      "source": [
        "def check(s1, s2):\n",
        "\n",
        "  # the sorted strings are checked\n",
        "  if(sorted(s1)== sorted(s2)):\n",
        "    print(\"The strings are anagrams.\")\n",
        "  else:\n",
        "    print(\"The strings aren't anagrams.\")\n",
        "\n",
        "# driver code\n",
        "s1 =input(\"Enter first string :\")\n",
        "s2 =input(\"Enter second string :\")\n",
        "check(s1, s2)"
      ],
      "metadata": {
        "colab": {
          "base_uri": "https://localhost:8080/"
        },
        "id": "wGSRNrFwg-I5",
        "outputId": "db1f2f3f-fc72-44df-8e8c-6204795d624a"
      },
      "execution_count": 17,
      "outputs": [
        {
          "output_type": "stream",
          "name": "stdout",
          "text": [
            "Enter first string :cat\n",
            "Enter second string :act\n",
            "The strings are anagrams.\n"
          ]
        }
      ]
    },
    {
      "cell_type": "markdown",
      "source": [
        "13. Write a Python program to generate all permutations of a given string.\n"
      ],
      "metadata": {
        "id": "TZnnEM3mhfQD"
      }
    },
    {
      "cell_type": "code",
      "source": [
        "import itertools\n",
        "\n",
        "if __name__ == '__main__':\n",
        "    s = 'ABC'\n",
        "\n",
        "    nums = list(s)\n",
        "    permutations = list(itertools.permutations(nums))\n",
        "\n",
        "    # Output: ['ABC', 'ACB', 'BAC', 'BCA', 'CAB', 'CBA']\n",
        "    print([''.join(permutation) for permutation in permutations])"
      ],
      "metadata": {
        "colab": {
          "base_uri": "https://localhost:8080/"
        },
        "id": "fONuHKtFg-Sq",
        "outputId": "c78baa2e-a7b5-461e-c91d-c8f80df3eabb"
      },
      "execution_count": 18,
      "outputs": [
        {
          "output_type": "stream",
          "name": "stdout",
          "text": [
            "['ABC', 'ACB', 'BAC', 'BCA', 'CAB', 'CBA']\n"
          ]
        }
      ]
    },
    {
      "cell_type": "code",
      "source": [
        "def swap(ch, i, j):\n",
        "    temp = ch[i]\n",
        "    ch[i] = ch[j]\n",
        "    ch[j] = temp\n",
        "\n",
        "\n",
        "# Recursive function to generate all permutations of a string\n",
        "def permutations(ch, curr_index=0):\n",
        "\n",
        "    if curr_index == len(ch) - 1:\n",
        "        print(''.join(ch))\n",
        "\n",
        "    for i in range(curr_index, len(ch)):\n",
        "        swap(ch, curr_index, i)\n",
        "        permutations(ch, curr_index + 1)\n",
        "        swap(ch, curr_index, i)\n",
        "\n",
        "\n",
        "if __name__ == '__main__':\n",
        "\n",
        "    s = 'ABC'\n",
        "    permutations(list(s))"
      ],
      "metadata": {
        "colab": {
          "base_uri": "https://localhost:8080/"
        },
        "id": "wjXT-i7YhqN-",
        "outputId": "a07ab23e-fdb3-4be5-b21f-37011236aae2"
      },
      "execution_count": 19,
      "outputs": [
        {
          "output_type": "stream",
          "name": "stdout",
          "text": [
            "ABC\n",
            "ACB\n",
            "BAC\n",
            "BCA\n",
            "CBA\n",
            "CAB\n"
          ]
        }
      ]
    },
    {
      "cell_type": "markdown",
      "source": [
        "14. Implement a function to calculate the Fibonacci sequence up to a given number of terms."
      ],
      "metadata": {
        "id": "bQsT4Nhdh3iQ"
      }
    },
    {
      "cell_type": "code",
      "source": [
        "# Program to display the Fibonacci sequence up to n-th term\n",
        "\n",
        "nterms = int(input(\"How many terms? \"))\n",
        "\n",
        "# first two terms\n",
        "n1, n2 = 0, 1\n",
        "count = 0\n",
        "\n",
        "# check if the number of terms is valid\n",
        "if nterms <= 0:\n",
        "   print(\"Please enter a positive integer\")\n",
        "# if there is only one term, return n1\n",
        "elif nterms == 1:\n",
        "   print(\"Fibonacci sequence upto\",nterms,\":\")\n",
        "   print(n1)\n",
        "# generate fibonacci sequence\n",
        "else:\n",
        "   print(\"Fibonacci sequence:\")\n",
        "   while count < nterms:\n",
        "       print(n1)\n",
        "       nth = n1 + n2\n",
        "       # update values\n",
        "       n1 = n2\n",
        "       n2 = nth\n",
        "       count += 1"
      ],
      "metadata": {
        "colab": {
          "base_uri": "https://localhost:8080/"
        },
        "id": "RWUIvMWZh4yi",
        "outputId": "37aa1724-b9b0-4c2d-b612-4a98ae66290d"
      },
      "execution_count": 20,
      "outputs": [
        {
          "output_type": "stream",
          "name": "stdout",
          "text": [
            "How many terms? 8\n",
            "Fibonacci sequence:\n",
            "0\n",
            "1\n",
            "1\n",
            "2\n",
            "3\n",
            "5\n",
            "8\n",
            "13\n"
          ]
        }
      ]
    },
    {
      "cell_type": "markdown",
      "source": [
        "15. Write a program to find the median of a list of numbers."
      ],
      "metadata": {
        "id": "RgrkwaWuipKl"
      }
    },
    {
      "cell_type": "code",
      "source": [
        "def findMean(a, n):\n",
        "\n",
        "    sum = 0\n",
        "    for i in range(0, n):\n",
        "        sum += a[i]\n",
        "\n",
        "    return float(sum/n)\n",
        "\n",
        "# Function for calculating median\n",
        "\n",
        "\n",
        "def findMedian(a, n):\n",
        "\n",
        "    # First we sort the array\n",
        "    sorted(a)\n",
        "\n",
        "    # check for even case\n",
        "    if n % 2 != 0:\n",
        "        return float(a[int(n/2)])\n",
        "\n",
        "    return float((a[int((n-1)/2)] +\n",
        "                  a[int(n/2)])/2.0)\n",
        "\n",
        "\n",
        "# Driver code\n",
        "a = [1, 3, 4, 2, 7, 5, 8, 6]\n",
        "n = len(a)\n",
        "\n",
        "# Function call\n",
        "print(\"Mean =\", findMean(a, n))\n",
        "print(\"Median =\", findMedian(a, n))\n",
        ""
      ],
      "metadata": {
        "colab": {
          "base_uri": "https://localhost:8080/"
        },
        "id": "ZxfRvlm5iqA7",
        "outputId": "b7348630-d94c-4e97-f919-3d596345dc58"
      },
      "execution_count": 21,
      "outputs": [
        {
          "output_type": "stream",
          "name": "stdout",
          "text": [
            "Mean = 4.5\n",
            "Median = 4.5\n"
          ]
        }
      ]
    },
    {
      "cell_type": "markdown",
      "source": [
        "16. Implement a function to check if a given list is sorted in non-decreasing order."
      ],
      "metadata": {
        "id": "sW6fBlPgi8OQ"
      }
    },
    {
      "cell_type": "code",
      "source": [
        "test_list = [1, 4, 5, 8, 10]\n",
        "\n",
        "# printing original list\n",
        "print (\"Original list : \" + str(test_list))\n",
        "\n",
        "# using naive method to\n",
        "# check sorted list\n",
        "flag = 0\n",
        "i = 1\n",
        "while i < len(test_list):\n",
        "    if(test_list[i] < test_list[i - 1]):\n",
        "        flag = 1\n",
        "    i += 1\n",
        "\n",
        "# printing result\n",
        "if (not flag) :\n",
        "    print (\"Yes, List is sorted.\")\n",
        "else :\n",
        "    print (\"No, List is not sorted.\")"
      ],
      "metadata": {
        "colab": {
          "base_uri": "https://localhost:8080/"
        },
        "id": "oLBb0nxsi-GT",
        "outputId": "e9090543-bcd3-40f2-c88f-274cb7888ae4"
      },
      "execution_count": 22,
      "outputs": [
        {
          "output_type": "stream",
          "name": "stdout",
          "text": [
            "Original list : [1, 4, 5, 8, 10]\n",
            "Yes, List is sorted.\n"
          ]
        }
      ]
    },
    {
      "cell_type": "markdown",
      "source": [
        "17. Write a Python program to find the intersection of two lists.\n"
      ],
      "metadata": {
        "id": "atNEtUtgi8YW"
      }
    },
    {
      "cell_type": "code",
      "source": [
        "\n",
        "def intersection_list(list1, list2):\n",
        "   list3 = [value for value in list1 if value in list2]\n",
        "   return list3\n",
        "\n",
        "# Driver Code\n",
        "list1 = [40, 90, 11, 58, 31, 66, 28, 54, 79]\n",
        "list2 = [58, 90, 54, 31, 45, 11, 66, 28, 26]\n",
        "print(intersection_list(list1, list2))"
      ],
      "metadata": {
        "colab": {
          "base_uri": "https://localhost:8080/"
        },
        "id": "Z7CJ4LjkjUH9",
        "outputId": "05486da2-b304-4085-aa62-078e911ed8a5"
      },
      "execution_count": 23,
      "outputs": [
        {
          "output_type": "stream",
          "name": "stdout",
          "text": [
            "[90, 11, 58, 31, 66, 28, 54]\n"
          ]
        }
      ]
    },
    {
      "cell_type": "markdown",
      "source": [
        "18. Implement a function to find the maximum subarray sum in a given list."
      ],
      "metadata": {
        "id": "-6twaIGljpEg"
      }
    },
    {
      "cell_type": "code",
      "source": [
        "def max_sum_of_subarray(arr, n, k):\n",
        "    max_sum = 0;\n",
        "    for i in range(0, n-k+1):\n",
        "        temp = 0;\n",
        "        for j in range(i, i+k):\n",
        "            temp += arr[j];\n",
        "\n",
        "        if (temp > max_sum):\n",
        "            max_sum = temp;\n",
        "\n",
        "    return max_sum;\n",
        "\n",
        "\n",
        "arr = [ 1, 4, 2, 10, 2, 3, 1, 0, 20 ];\n",
        "k = 4;\n",
        "n = len(arr);\n",
        "max_sum=0;\n",
        "\n",
        " # brute force\n",
        "max_sum = max_sum_of_subarray(arr, n, k);\n",
        "print(max_sum);\n",
        ""
      ],
      "metadata": {
        "colab": {
          "base_uri": "https://localhost:8080/"
        },
        "id": "1BalA-R3jqF3",
        "outputId": "136f9efa-32ab-4f5f-efea-635e52df4a92"
      },
      "execution_count": 24,
      "outputs": [
        {
          "output_type": "stream",
          "name": "stdout",
          "text": [
            "24\n"
          ]
        }
      ]
    },
    {
      "cell_type": "markdown",
      "source": [
        "19. Write a program to remove all vowels from a given string."
      ],
      "metadata": {
        "id": "L1gjUlEzj9OS"
      }
    },
    {
      "cell_type": "code",
      "source": [
        "\n",
        "# Python program to remove vowels from a string\n",
        "# Function to remove vowels\n",
        "def rem_vowel(string):\n",
        "    vowels = ['a','e','i','o','u']\n",
        "    result = [letter for letter in string if letter.lower() not in vowels]\n",
        "    result = ''.join(result)\n",
        "    print(result)\n",
        "\n",
        "# Driver program\n",
        "string = \"GeeksforGeeks - A Computer Science Portal for Geeks\"\n",
        "rem_vowel(string)\n",
        "string = \"Loving Python LOL\"\n",
        "rem_vowel(string)"
      ],
      "metadata": {
        "colab": {
          "base_uri": "https://localhost:8080/"
        },
        "id": "togoWv67kHew",
        "outputId": "c0ee80e2-edc4-4d0f-ca6a-30c4b40257bc"
      },
      "execution_count": 25,
      "outputs": [
        {
          "output_type": "stream",
          "name": "stdout",
          "text": [
            "GksfrGks -  Cmptr Scnc Prtl fr Gks\n",
            "Lvng Pythn LL\n"
          ]
        }
      ]
    },
    {
      "cell_type": "markdown",
      "source": [
        "20. Implement a function to reverse the order of words in a given sentence."
      ],
      "metadata": {
        "id": "1vqs4gTokgK_"
      }
    },
    {
      "cell_type": "code",
      "source": [
        "s = \"i like this program very much\"\n",
        "words = s.split(' ')\n",
        "string = []\n",
        "for word in words:\n",
        "    string.insert(0, word)\n",
        "\n",
        "\n",
        "print(\" \".join(string))\n",
        ""
      ],
      "metadata": {
        "colab": {
          "base_uri": "https://localhost:8080/"
        },
        "id": "rgSfcAGvkg-p",
        "outputId": "0c72e9ee-b7a6-467c-fd9d-a59a4b7c2a95"
      },
      "execution_count": 26,
      "outputs": [
        {
          "output_type": "stream",
          "name": "stdout",
          "text": [
            "much very program this like i\n"
          ]
        }
      ]
    },
    {
      "cell_type": "markdown",
      "source": [
        "21. Write a Python program to check if two strings are anagrams of each other."
      ],
      "metadata": {
        "id": "Rg0JHipQkuFM"
      }
    },
    {
      "cell_type": "code",
      "source": [
        "from collections import Counter\n",
        "def check(s1, s2):\n",
        "\n",
        "    # implementing counter function\n",
        "    if(Counter(s1) == Counter(s2)):\n",
        "        print(\"The strings are anagrams.\")\n",
        "    else:\n",
        "        print(\"The strings aren't anagrams.\")\n",
        "\n",
        "\n",
        "# driver code\n",
        "s1 = \"listen\"\n",
        "s2 = \"silent\"\n",
        "check(s1, s2)"
      ],
      "metadata": {
        "colab": {
          "base_uri": "https://localhost:8080/"
        },
        "id": "a7d8tBrJku1b",
        "outputId": "029e1e28-9d45-42a4-ae96-2bf6051b4f7c"
      },
      "execution_count": 28,
      "outputs": [
        {
          "output_type": "stream",
          "name": "stdout",
          "text": [
            "The strings are anagrams.\n"
          ]
        }
      ]
    },
    {
      "cell_type": "markdown",
      "source": [
        "22. Implement a function to find the first non-repeating character in a string"
      ],
      "metadata": {
        "id": "sbRUYzmrlJZm"
      }
    },
    {
      "cell_type": "code",
      "source": [
        "string = \"geeksforgeeks\"\n",
        "index = -1\n",
        "fnc = \"\"\n",
        "\n",
        "if len(string) == 0 :\n",
        "  print(\"EMTPY STRING\");\n",
        "\n",
        "for i in string:\n",
        "    if string.count(i) == 1:\n",
        "        fnc += i\n",
        "        break\n",
        "    else:\n",
        "        index += 1\n",
        "if index == len(string)-1 :\n",
        "    print(\"All characters are repeating \")\n",
        "else:\n",
        "    print(\"First non-repeating character is\", fnc)"
      ],
      "metadata": {
        "colab": {
          "base_uri": "https://localhost:8080/"
        },
        "id": "FmUdKdiWlKWN",
        "outputId": "cb25d555-ddb4-4941-8e61-e4d30fb71870"
      },
      "execution_count": 29,
      "outputs": [
        {
          "output_type": "stream",
          "name": "stdout",
          "text": [
            "First non-repeating character is f\n"
          ]
        }
      ]
    },
    {
      "cell_type": "code",
      "source": [
        "def FirstNonRepeat(s):\n",
        "\n",
        "    for i in s:\n",
        "\n",
        "        if (s.find(i, (s.find(i)+1))) == -1:\n",
        "\n",
        "            print(\"First non-repeating character is\", i)\n",
        "\n",
        "            break\n",
        "\n",
        "    return\n",
        "\n",
        "# __main__\n",
        "\n",
        "\n",
        "s = 'geeksforgeeks'\n",
        "\n",
        "FirstNonRepeat(s)"
      ],
      "metadata": {
        "colab": {
          "base_uri": "https://localhost:8080/"
        },
        "id": "E48CaN6FlrZS",
        "outputId": "e5392cf7-1a8e-472e-904e-b6efd95bba81"
      },
      "execution_count": 30,
      "outputs": [
        {
          "output_type": "stream",
          "name": "stdout",
          "text": [
            "First non-repeating character is f\n"
          ]
        }
      ]
    },
    {
      "cell_type": "markdown",
      "source": [
        "23. Write a program to find the prime factors of a given number."
      ],
      "metadata": {
        "id": "tVAvd0Aelvti"
      }
    },
    {
      "cell_type": "code",
      "source": [
        "def Prime_Factorial(n):\n",
        "    if n < 4:\n",
        "        return n\n",
        "    arr = []\n",
        "    while n > 1:\n",
        "        for i in range(2, int(2+n//2)):\n",
        "            if i == (1 + n // 2):\n",
        "                arr.append(n)\n",
        "                n = n // n\n",
        "            if n % i == 0:\n",
        "                arr.append(i)\n",
        "                n = n // i\n",
        "                break\n",
        "    return arr\n",
        "\n",
        "\n",
        "n = 210\n",
        "print(Prime_Factorial(n))"
      ],
      "metadata": {
        "colab": {
          "base_uri": "https://localhost:8080/"
        },
        "id": "ng3_m70bl9se",
        "outputId": "2d927e77-d11e-44bf-e803-6f0afc04ca14"
      },
      "execution_count": 31,
      "outputs": [
        {
          "output_type": "stream",
          "name": "stdout",
          "text": [
            "[2, 3, 5, 7]\n"
          ]
        }
      ]
    },
    {
      "cell_type": "markdown",
      "source": [
        "24. Implement a function to check if a given number is a power of two.\n"
      ],
      "metadata": {
        "id": "26gNIboOnN-l"
      }
    },
    {
      "cell_type": "code",
      "source": [
        "def find(n):\n",
        "   if (n == 0):\n",
        "      return False\n",
        "   while (n != 1):\n",
        "      if (n % 2 != 0):\n",
        "         return False\n",
        "      n = n // 2\n",
        "   return True\n",
        "# Driver code\n",
        "if(find(100)):\n",
        "   print('Yes')\n",
        "else:\n",
        "   print('No')"
      ],
      "metadata": {
        "colab": {
          "base_uri": "https://localhost:8080/"
        },
        "id": "SGIeavBEnO_H",
        "outputId": "3dcf2b58-6447-4492-b22e-ab2059ca327a"
      },
      "execution_count": 32,
      "outputs": [
        {
          "output_type": "stream",
          "name": "stdout",
          "text": [
            "No\n"
          ]
        }
      ]
    },
    {
      "cell_type": "code",
      "source": [
        "def is_power_of_two(n):\n",
        "    \"\"\"Return True if n is a power of two.\"\"\"\n",
        "    if n <= 0:\n",
        "        return False\n",
        "    else:\n",
        "        return n & (n - 1) == 0\n",
        "\n",
        "\n",
        "n = int(input('Enter a number: '))\n",
        "\n",
        "if is_power_of_two(n):\n",
        "    print('{} is a power of two.'.format(n))\n",
        "else:\n",
        "    print('{} is not a power of two.'.format(n))"
      ],
      "metadata": {
        "colab": {
          "base_uri": "https://localhost:8080/"
        },
        "id": "dPjOoeQroSb0",
        "outputId": "69d08fbc-78f2-4c36-9496-fbff627badff"
      },
      "execution_count": 34,
      "outputs": [
        {
          "output_type": "stream",
          "name": "stdout",
          "text": [
            "Enter a number: 4\n",
            "4 is a power of two.\n"
          ]
        }
      ]
    },
    {
      "cell_type": "markdown",
      "source": [
        "25. Write a Python program to merge two sorted lists into a single sorted list."
      ],
      "metadata": {
        "id": "XDCM28HkoZr7"
      }
    },
    {
      "cell_type": "code",
      "source": [
        "test_list1 = [1,35, 6, 9, 11]\n",
        "test_list2 = [3, 4, 7, 98, 10]\n",
        "\n",
        "# printing original lists\n",
        "print(\"The original list 1 is : \" + str(test_list1))\n",
        "print(\"The original list 2 is : \" + str(test_list2))\n",
        "\n",
        "# using naive method\n",
        "# to combine two sorted lists\n",
        "size_1 = len(test_list1)\n",
        "size_2 = len(test_list2)\n",
        "\n",
        "res = []\n",
        "i, j = 0, 0\n",
        "\n",
        "while i < size_1 and j < size_2:\n",
        "    if test_list1[i] < test_list2[j]:\n",
        "        res.append(test_list1[i])\n",
        "        i += 1\n",
        "\n",
        "    else:\n",
        "        res.append(test_list2[j])\n",
        "        j += 1\n",
        "\n",
        "res = res + test_list1[i:] + test_list2[j:]\n",
        "\n",
        "# printing result\n",
        "print(\"The combined sorted list is : \" + str(res))"
      ],
      "metadata": {
        "colab": {
          "base_uri": "https://localhost:8080/"
        },
        "id": "t-sRZ0UroeEj",
        "outputId": "d4ad2a49-4c1b-4bd7-bebd-037e76f9e1dd"
      },
      "execution_count": 36,
      "outputs": [
        {
          "output_type": "stream",
          "name": "stdout",
          "text": [
            "The original list 1 is : [1, 35, 6, 9, 11]\n",
            "The original list 2 is : [3, 4, 7, 98, 10]\n",
            "The combined sorted list is : [1, 3, 4, 7, 35, 6, 9, 11, 98, 10]\n"
          ]
        }
      ]
    },
    {
      "cell_type": "markdown",
      "source": [
        "26. Implement a function to find the mode of a list of numbers"
      ],
      "metadata": {
        "id": "LaNdxmW1poHA"
      }
    },
    {
      "cell_type": "code",
      "source": [
        "from collections import Counter\n",
        "\n",
        "# list of elements to calculate mode\n",
        "n_num = [1, 2, 3, 4, 5, 5]\n",
        "n = len(n_num)\n",
        "\n",
        "data = Counter(n_num)\n",
        "get_mode = dict(data)\n",
        "mode = [k for k, v in get_mode.items() if v == max(list(data.values()))]\n",
        "\n",
        "if len(mode) == n:\n",
        "    get_mode = \"No mode found\"\n",
        "else:\n",
        "    get_mode = \"Mode is / are: \" + ', '.join(map(str, mode))\n",
        "\n",
        "print(get_mode)"
      ],
      "metadata": {
        "colab": {
          "base_uri": "https://localhost:8080/"
        },
        "id": "0gV74UgEpx3N",
        "outputId": "fab42399-b0e7-4c53-8071-d0fb853061f3"
      },
      "execution_count": 37,
      "outputs": [
        {
          "output_type": "stream",
          "name": "stdout",
          "text": [
            "Mode is / are: 5\n"
          ]
        }
      ]
    },
    {
      "cell_type": "markdown",
      "source": [
        "27. Write a program to find the greatest common divisor (GCD) of two numbers"
      ],
      "metadata": {
        "id": "r-5CR0M4qFyT"
      }
    },
    {
      "cell_type": "code",
      "source": [
        "num1 = 36\n",
        "num2 = 60\n",
        "gcd = 1\n",
        "\n",
        "for i in range(1, min(num1, num2)):\n",
        "    if num1 % i == 0 and num2 % i == 0:\n",
        "        gcd = i\n",
        "print(\"GCD of\", num1, \"and\", num2, \"is\", gcd)"
      ],
      "metadata": {
        "colab": {
          "base_uri": "https://localhost:8080/"
        },
        "id": "hAEdOs84qGld",
        "outputId": "4aba0bf0-2f51-4c6f-c8a1-b919f67ee42e"
      },
      "execution_count": 38,
      "outputs": [
        {
          "output_type": "stream",
          "name": "stdout",
          "text": [
            "GCD of 36 and 60 is 12\n"
          ]
        }
      ]
    },
    {
      "cell_type": "markdown",
      "source": [
        "28. Implement a function to calculate the square root of a given number.\n"
      ],
      "metadata": {
        "id": "WG5UyfyRqLUc"
      }
    },
    {
      "cell_type": "code",
      "source": [
        "import math\n",
        "# define the sqrt_fun() and pass the num as an argument\n",
        "def sqrt_fun(num):\n",
        "    if num < 0:  # if num is less than 0 or negative, it returns nothing\n",
        "        return\n",
        "    else:\n",
        "        return num ** 0.5 # Use the exponent operator\n",
        "num = int(input (\" Enter a numeric value: \") ) # take an input from the user\n",
        "# call the sqrt_fun() to find the result\n",
        "res = sqrt_fun(num)\n",
        "# to print the Square Root of the variable\n",
        "print(\"  Square Root of the {0} = {1} \".format(num, res))"
      ],
      "metadata": {
        "colab": {
          "base_uri": "https://localhost:8080/"
        },
        "id": "edk-YAZerFc-",
        "outputId": "d8abb6ff-cd62-481a-b02f-0fd769e4a009"
      },
      "execution_count": 41,
      "outputs": [
        {
          "output_type": "stream",
          "name": "stdout",
          "text": [
            " Enter a numeric value: 256\n",
            "  Square Root of the 256 = 16.0 \n"
          ]
        }
      ]
    },
    {
      "cell_type": "markdown",
      "source": [
        "29. Write a Python program to check if a given string is a valid palindrome ignoring non-alphanumeric characters."
      ],
      "metadata": {
        "id": "OMiNAc0BrUKR"
      }
    },
    {
      "cell_type": "code",
      "source": [
        "a_string = 'Was it a car or a cat I saw'\n",
        "\n",
        "def palindrome(a_string):\n",
        "    a_string = a_string.lower().replace(' ', '')\n",
        "    return a_string == a_string[::-1]\n",
        "\n",
        "print(palindrome(a_string))"
      ],
      "metadata": {
        "colab": {
          "base_uri": "https://localhost:8080/"
        },
        "id": "FqEsBYICrVGZ",
        "outputId": "76adeb2f-6ad0-462d-fe97-07fc958e4b7d"
      },
      "execution_count": 42,
      "outputs": [
        {
          "output_type": "stream",
          "name": "stdout",
          "text": [
            "True\n"
          ]
        }
      ]
    },
    {
      "cell_type": "markdown",
      "source": [
        "30. Implement a function to find the minimum element in a rotated sorted list."
      ],
      "metadata": {
        "id": "-La4_lBrsMKW"
      }
    },
    {
      "cell_type": "code",
      "source": [
        "\n",
        "# python3 code  to implement the approach\n",
        "\n",
        "def findMin(arr, N):\n",
        "\n",
        "    min_ele = arr[0];\n",
        "\n",
        "    # Traversing over array to\n",
        "    # find minimum element\n",
        "    for i in range(N) :\n",
        "        if arr[i] < min_ele :\n",
        "            min_ele = arr[i]\n",
        "\n",
        "    return min_ele;\n",
        "\n",
        "# Driver program\n",
        "arr = [5, 6, 11, 452, 3, 4]\n",
        "N = len(arr)\n",
        "\n",
        "print(findMin(arr,N))"
      ],
      "metadata": {
        "colab": {
          "base_uri": "https://localhost:8080/"
        },
        "id": "iY0eECB_rVXE",
        "outputId": "0ecbbb76-5633-45fb-cbd7-f7301c394ab6"
      },
      "execution_count": 44,
      "outputs": [
        {
          "output_type": "stream",
          "name": "stdout",
          "text": [
            "3\n"
          ]
        }
      ]
    },
    {
      "cell_type": "markdown",
      "source": [
        "31. Write a program to find the sum of all even numbers in a list."
      ],
      "metadata": {
        "id": "K25a6qkJscjk"
      }
    },
    {
      "cell_type": "code",
      "source": [
        "nums = []\n",
        "print(\"Enter 5 elements for the list: \")\n",
        "for i in range(5):\n",
        "    val = int(input())\n",
        "    nums.append(val)\n",
        "\n",
        "sum = 0\n",
        "\n",
        "for i in range(5):\n",
        "    if nums[i]%2 == 0:\n",
        "        sum = sum + nums[i]\n",
        "\n",
        "print(\"\\nSum of Even Numbers is\", sum)"
      ],
      "metadata": {
        "colab": {
          "base_uri": "https://localhost:8080/"
        },
        "id": "wrp2Cv23sdbe",
        "outputId": "dfcb5ee6-0c2a-4bde-f316-b2aef5321b75"
      },
      "execution_count": 45,
      "outputs": [
        {
          "output_type": "stream",
          "name": "stdout",
          "text": [
            "Enter 5 elements for the list: \n",
            "3\n",
            "6\n",
            "78\n",
            "12\n",
            "34\n",
            "\n",
            "Sum of Even Numbers is 130\n"
          ]
        }
      ]
    },
    {
      "cell_type": "markdown",
      "source": [
        "32. Implement a function to calculate the power of a number using recursion."
      ],
      "metadata": {
        "id": "WXXwRkjFs-XT"
      }
    },
    {
      "cell_type": "code",
      "source": [
        "def power(a, b):\n",
        "    if b != 0:\n",
        "        return a * power(a, b - 1)\n",
        "    else:\n",
        "        return 1\n",
        "\n",
        "\n",
        "a = 12\n",
        "b = 3\n",
        "print(a, \"to the power\", b, \"is\", power(a, b))"
      ],
      "metadata": {
        "colab": {
          "base_uri": "https://localhost:8080/"
        },
        "id": "tuLho-9bs_Ms",
        "outputId": "2536e291-6d72-400d-a303-70c3df943bb4"
      },
      "execution_count": 47,
      "outputs": [
        {
          "output_type": "stream",
          "name": "stdout",
          "text": [
            "12 to the power 3 is 1728\n"
          ]
        }
      ]
    },
    {
      "cell_type": "markdown",
      "source": [
        "33. Write a Python program to remove duplicates from a list while preserving the order."
      ],
      "metadata": {
        "id": "ZjUJ_wBJtPPV"
      }
    },
    {
      "cell_type": "code",
      "source": [
        "test_list = [1, 3, 5, 6, 3, 5, 6, 1]\n",
        "print(\"The original list is : \"\n",
        "      + str(test_list))\n",
        "\n",
        "# using list comprehension\n",
        "# to remove duplicated\n",
        "# from list\n",
        "res = []\n",
        "[res.append(x) for x in test_list if x not in res]\n",
        "\n",
        "# printing list after removal\n",
        "print (\"The list after removing duplicates : \"\n",
        "       + str(res))"
      ],
      "metadata": {
        "colab": {
          "base_uri": "https://localhost:8080/"
        },
        "id": "OLIJu2_mtQAo",
        "outputId": "c8b472d0-4010-4c78-b228-3e3577aa71cb"
      },
      "execution_count": 48,
      "outputs": [
        {
          "output_type": "stream",
          "name": "stdout",
          "text": [
            "The original list is : [1, 3, 5, 6, 3, 5, 6, 1]\n",
            "The list after removing duplicates : [1, 3, 5, 6]\n"
          ]
        }
      ]
    },
    {
      "cell_type": "markdown",
      "source": [
        "34. Implement a function to find the longest common prefix among a list of strings."
      ],
      "metadata": {
        "id": "daBs575Ltecz"
      }
    },
    {
      "cell_type": "code",
      "source": [
        "arr = [\"mint\", \"mini\", \"mineral\"]\n",
        "# The longest common prefix of an empty array is \"\".\n",
        "if not arr:\n",
        "  print(\"Longest common prefix:\", \"\")\n",
        "# The longest common prefix of an array containing\n",
        "# only one element is that element itself.\n",
        "elif len(arr) == 1:\n",
        "  print(\"Longest common prefix:\", arr[0])\n",
        "else:\n",
        "  # Sort the array\n",
        "  arr.sort()\n",
        "  result = \"\"\n",
        "  # Compare the first and the last string character\n",
        "  # by character.\n",
        "  for i in range(len(arr[0])):\n",
        "      #  If the characters match, append the character to\n",
        "      #  the result.\n",
        "      if arr[0][i] == arr[-1][i]:\n",
        "          result += arr[0][i]\n",
        "      # Else, stop the comparison\n",
        "      else:\n",
        "          break\n",
        "  print(\"Longest common prefix:\", result)"
      ],
      "metadata": {
        "colab": {
          "base_uri": "https://localhost:8080/"
        },
        "id": "EBe4MtBRtfaU",
        "outputId": "2f982888-dd06-41a9-d63f-f8ae3c5a5c87"
      },
      "execution_count": 49,
      "outputs": [
        {
          "output_type": "stream",
          "name": "stdout",
          "text": [
            "Longest common prefix: min\n"
          ]
        }
      ]
    },
    {
      "cell_type": "markdown",
      "source": [
        "35. Write a program to check if a given number is a perfect square.\n"
      ],
      "metadata": {
        "id": "j9JmO_r2t7_8"
      }
    },
    {
      "cell_type": "code",
      "source": [
        "import math\n",
        "\n",
        "\n",
        "def isPerfectSquare(x):\n",
        "\n",
        "    #if x >= 0,\n",
        "    if(x >= 0):\n",
        "        sr = int(math.sqrt(x))\n",
        "        # sqrt function returns floating value so we have to convert it into integer\n",
        "        #return boolean T/F\n",
        "        return ((sr*sr) == x)\n",
        "    return false\n",
        "\n",
        "# Driver code\n",
        "\n",
        "\n",
        "x = 2502\n",
        "if (isPerfectSquare(x)):\n",
        "    print(\"Yes\")\n",
        "else:\n",
        "    print(\"No\")"
      ],
      "metadata": {
        "colab": {
          "base_uri": "https://localhost:8080/"
        },
        "id": "2CpBzWi7t8Li",
        "outputId": "6638d854-882a-4d18-d194-2dfa70637624"
      },
      "execution_count": 50,
      "outputs": [
        {
          "output_type": "stream",
          "name": "stdout",
          "text": [
            "No\n"
          ]
        }
      ]
    },
    {
      "cell_type": "markdown",
      "source": [
        "36. Implement a function to calculate the product of all elements in a list."
      ],
      "metadata": {
        "id": "A6joKXI3uBwg"
      }
    },
    {
      "cell_type": "code",
      "source": [
        "def multiply_list(items):\n",
        "    tot = 1\n",
        "    for x in items:\n",
        "        tot *= x\n",
        "    return tot\n",
        "print(multiply_list([1,2,-8]))"
      ],
      "metadata": {
        "colab": {
          "base_uri": "https://localhost:8080/"
        },
        "id": "OkbfHTFPt_oL",
        "outputId": "ea0b5e9a-fa17-44b6-eb1a-ff20f87218f5"
      },
      "execution_count": 51,
      "outputs": [
        {
          "output_type": "stream",
          "name": "stdout",
          "text": [
            "-16\n"
          ]
        }
      ]
    },
    {
      "cell_type": "markdown",
      "source": [
        "37. Write a Python program to reverse the order of words in a sentence while preserving the word order."
      ],
      "metadata": {
        "id": "SpWm7ymPv5xj"
      }
    },
    {
      "cell_type": "code",
      "source": [
        "def reverse_sentence(sentence):\n",
        "    words = sentence.split()\n",
        "    reversed_words = words[::-1]\n",
        "    reversed_sentence = \" \".join(reversed_words)\n",
        "    return reversed_sentence\n",
        "\n",
        "# Example usage\n",
        "sentence = input(\"Enter a sentence: \")\n",
        "reversed_sentence = reverse_sentence(sentence)\n",
        "print(\"Reversed sentence:\", reversed_sentence)"
      ],
      "metadata": {
        "colab": {
          "base_uri": "https://localhost:8080/"
        },
        "id": "ZMgbcN2Yv6Te",
        "outputId": "6302c726-1bfb-4852-cc40-a0f8cd3349bd"
      },
      "execution_count": 53,
      "outputs": [
        {
          "output_type": "stream",
          "name": "stdout",
          "text": [
            "Enter a sentence: greak for greek\n",
            "Reversed sentence: greek for greak\n"
          ]
        }
      ]
    },
    {
      "cell_type": "markdown",
      "source": [
        "38. Implement a function to find the missing number in a given list of consecutive numbers"
      ],
      "metadata": {
        "id": "92F_ceUMwKXm"
      }
    },
    {
      "cell_type": "code",
      "source": [
        "def findMissing(arr, N):\n",
        "\n",
        "    # create a list of zeroes\n",
        "    temp = [0] * (N+1)\n",
        "\n",
        "    for i in range(0, N):\n",
        "        temp[arr[i] - 1] = 1\n",
        "\n",
        "    for i in range(0, N+1):\n",
        "        if(temp[i] == 0):\n",
        "            ans = i + 1\n",
        "\n",
        "    print(ans)\n",
        "\n",
        "# Driver code\n",
        "if __name__ == '__main__':\n",
        "    arr = [1, 2, 3, 5]\n",
        "    N = len(arr)\n",
        "\n",
        "    # Function call\n",
        "    findMissing(arr, N)"
      ],
      "metadata": {
        "colab": {
          "base_uri": "https://localhost:8080/"
        },
        "id": "-WI8lALGw-sN",
        "outputId": "4d406b6b-fa0b-4772-bae8-b9f6790ad273"
      },
      "execution_count": 58,
      "outputs": [
        {
          "output_type": "stream",
          "name": "stdout",
          "text": [
            "4\n"
          ]
        }
      ]
    },
    {
      "cell_type": "markdown",
      "source": [
        "39. Write a program to find the sum of digits of a given number."
      ],
      "metadata": {
        "id": "ClPXJYgFxBFz"
      }
    },
    {
      "cell_type": "code",
      "source": [
        "\n",
        "\n",
        "def getSum(n):\n",
        "\n",
        "    sum = 0\n",
        "    while (n != 0):\n",
        "\n",
        "        sum = sum + int(n % 10)\n",
        "        n = int(n/10)\n",
        "\n",
        "    return sum\n",
        "\n",
        "\n",
        "# Driver code\n",
        "if __name__ == \"__main__\":\n",
        "    n = 687\n",
        "\n",
        "    # Function call\n",
        "    print(getSum(n))"
      ],
      "metadata": {
        "colab": {
          "base_uri": "https://localhost:8080/"
        },
        "id": "vY8bwrNxxD-7",
        "outputId": "8a2e83a4-034e-43c6-e907-9ca04feb2189"
      },
      "execution_count": 59,
      "outputs": [
        {
          "output_type": "stream",
          "name": "stdout",
          "text": [
            "21\n"
          ]
        }
      ]
    },
    {
      "cell_type": "markdown",
      "source": [
        "40. Implement a function to check if a given string is a valid palindrome considering case sensitivity."
      ],
      "metadata": {
        "id": "XdmNEIQqxSmK"
      }
    },
    {
      "cell_type": "code",
      "source": [
        "# function to check string is\n",
        "# palindrome or not\n",
        "def isPalindrome(str):\n",
        "\n",
        "\t# Run loop from 0 to len/2\n",
        "\tfor i in range(0, int(len(str)/2)):\n",
        "\t\tif str[i] != str[len(str)-i-1]:\n",
        "\t\t\treturn False\n",
        "\treturn True\n",
        "\n",
        "# main function\n",
        "s = \"malayalam\"\n",
        "ans = isPalindrome(s)\n",
        "\n",
        "if (ans):\n",
        "\tprint(\"Yes\")\n",
        "else:\n",
        "\tprint(\"No\")\n"
      ],
      "metadata": {
        "colab": {
          "base_uri": "https://localhost:8080/"
        },
        "id": "yOaA_Kl_xUBG",
        "outputId": "4ba03ad0-721b-4706-e367-316ecda234f3"
      },
      "execution_count": 60,
      "outputs": [
        {
          "output_type": "stream",
          "name": "stdout",
          "text": [
            "Yes\n"
          ]
        }
      ]
    },
    {
      "cell_type": "markdown",
      "source": [
        "\n",
        "41. Write a Python program to find the smallest missing positive integer in a list.\n"
      ],
      "metadata": {
        "id": "qVWDQYMVxSsD"
      }
    },
    {
      "cell_type": "code",
      "source": [
        "list1 = []\n",
        "\n",
        "# asking number of elements to put in list\n",
        "num = int(input(\"Enter number of elements in list: \"))\n",
        "\n",
        "# iterating till num to append elements in list\n",
        "for i in range(1, num + 1):\n",
        "    ele= int(input(\"Enter elements: \"))\n",
        "    list1.append(ele)\n",
        "\n",
        "# print minimum element:\n",
        "print(\"Smallest element is:\", min(list1))"
      ],
      "metadata": {
        "colab": {
          "base_uri": "https://localhost:8080/"
        },
        "id": "3NQzJApsyFRz",
        "outputId": "e3562923-7825-4923-9823-db4745ef1565"
      },
      "execution_count": 62,
      "outputs": [
        {
          "output_type": "stream",
          "name": "stdout",
          "text": [
            "Enter number of elements in list: 5\n",
            "Enter elements: 11\n",
            "Enter elements: 23\n",
            "Enter elements: 5\n",
            "Enter elements: 21\n",
            "Enter elements: 45\n",
            "Smallest element is: 5\n"
          ]
        }
      ]
    },
    {
      "cell_type": "markdown",
      "source": [
        "42. Implement a function to find the longest palindrome substring in a given string."
      ],
      "metadata": {
        "id": "Ry2Ui3DXyNt_"
      }
    },
    {
      "cell_type": "code",
      "source": [
        "def find_longest_palindrome(s):\n",
        "    longest = ''\n",
        "    n = len(s)\n",
        "    for i in range(n):\n",
        "        for j in range(i+1,n+1):\n",
        "            word = s[i:j]\n",
        "            if word == word[::-1]:\n",
        "                if len(word)>len(longest):\n",
        "                    longest = word\n",
        "    return longest\n",
        "\n",
        "\n",
        "print(find_longest_palindrome('locoannamadam'))\n",
        "# madam\n",
        "\n",
        "print(find_longest_palindrome('anna'))\n",
        "# anna\n",
        "\n",
        "print(find_longest_palindrome('abc'))\n",
        "# a"
      ],
      "metadata": {
        "colab": {
          "base_uri": "https://localhost:8080/"
        },
        "id": "igkasBllyQ4O",
        "outputId": "aa0edd1d-68ca-44f4-81f8-57bed3b23272"
      },
      "execution_count": 63,
      "outputs": [
        {
          "output_type": "stream",
          "name": "stdout",
          "text": [
            "madam\n",
            "anna\n",
            "a\n"
          ]
        }
      ]
    },
    {
      "cell_type": "code",
      "source": [
        "def longestPalindrome(s: str) -> str:\n",
        "\tlength = len(s)\n",
        "\tindex = -1\n",
        "\tmaxlength = 0\n",
        "\t# looping over the string for substrings\n",
        "\tfor i in range(length):\n",
        "\t\tfor j in range(i, length):\n",
        "\t\t\tispalindrome = 1\n",
        "\t\t\t# checking if string is a palindrome\n",
        "\t\t\tfor k in range(0, ((j - i) // 2) + 1):\n",
        "\t\t\t\tif s[i + k] != s[j - k]:\n",
        "\t\t\t\t\tispalindrome = 0\n",
        "\t\t\t# if the string is palindrome update maximum length\n",
        "\t\t\tif ispalindrome != 0 and j - i + 1 > maxlength:\n",
        "\t\t\t\tindex = i\n",
        "\t\t\t\tmaxlength = j - i + 1\n",
        "\t# return the substring from updated index till length maxlength\n",
        "\treturn s[index:index + maxlength]\n",
        "\n",
        "if __name__ == \"__main__\":\n",
        "\tword = \"abcbedrardea\"\n",
        "\tprint(longestPalindrome(word))"
      ],
      "metadata": {
        "colab": {
          "base_uri": "https://localhost:8080/"
        },
        "id": "OL_LaoGrzQ-5",
        "outputId": "a56cb0a1-976c-4184-eb84-6cf85e7fc10c"
      },
      "execution_count": 64,
      "outputs": [
        {
          "output_type": "stream",
          "name": "stdout",
          "text": [
            "edrarde\n"
          ]
        }
      ]
    },
    {
      "cell_type": "markdown",
      "source": [
        "43. Write a program to find the number of occurrences of a given element in a list."
      ],
      "metadata": {
        "id": "9Zc5HLb0zTyh"
      }
    },
    {
      "cell_type": "code",
      "source": [
        "def count_occurrence(list, n):\n",
        "\n",
        "#counter variable\n",
        "    count=0\n",
        "    for i in list:\n",
        "        if(i==n):\n",
        "          #update counter variable\n",
        "            count=count+1\n",
        "    return count\n",
        "\n",
        "#input list\n",
        "li=[]\n",
        "n=int(input(\"Enter size of list \"))\n",
        "for i in range(0,n):\n",
        "    e=int(input(\"Enter element of list \"))\n",
        "    li.append(e)\n",
        "print(\"Original list: \",li)\n",
        "x=int(input(\"Enter element to be checked list: \"))\n",
        "\n",
        "#function call\n",
        "print(x,\" has occurred \",count_occurrence(li, x),\"times\")"
      ],
      "metadata": {
        "colab": {
          "base_uri": "https://localhost:8080/"
        },
        "id": "iiHQ6T4qzXWQ",
        "outputId": "47a431b6-70be-463f-9978-c4e402cea7d4"
      },
      "execution_count": 67,
      "outputs": [
        {
          "output_type": "stream",
          "name": "stdout",
          "text": [
            "Enter size of list 5\n",
            "Enter element of list 23\n",
            "Enter element of list 23\n",
            "Enter element of list 33\n",
            "Enter element of list 23\n",
            "Enter element of list 23\n",
            "Original list:  [23, 23, 33, 23, 23]\n",
            "Enter element to be checked list: 23\n",
            "23  has occurred  4 times\n"
          ]
        }
      ]
    },
    {
      "cell_type": "markdown",
      "source": [
        "44. Implement a function to check if a given number is a perfect number."
      ],
      "metadata": {
        "id": "5JfaYzPp0IxF"
      }
    },
    {
      "cell_type": "code",
      "source": [
        "num = int(input(\"Enter a number : \"))\n",
        "sum = 0\n",
        "for i in range (1,num):\n",
        "\n",
        "  if(num % i == 0):\n",
        "      sum = sum + i\n",
        "  if(sum == num):\n",
        "    print(num,\"is a perfect number\")\n",
        "  else:\n",
        "    print(num,\"is not a perfect number\")\n",
        "\n",
        "\n",
        "\n",
        "\n",
        "\n",
        "\n"
      ],
      "metadata": {
        "colab": {
          "base_uri": "https://localhost:8080/"
        },
        "id": "tc8WEBOC0Jmn",
        "outputId": "1fac80ec-e14c-4425-e877-a50eb50e1cd5"
      },
      "execution_count": 72,
      "outputs": [
        {
          "output_type": "stream",
          "name": "stdout",
          "text": [
            "Enter a number : 6\n",
            "6 is not a perfect number\n",
            "6 is not a perfect number\n",
            "6 is a perfect number\n",
            "6 is a perfect number\n",
            "6 is a perfect number\n"
          ]
        }
      ]
    },
    {
      "cell_type": "markdown",
      "source": [
        "45. Write a Python program to remove all duplicates from a string."
      ],
      "metadata": {
        "id": "Ob6auL1X3N5y"
      }
    },
    {
      "cell_type": "code",
      "source": [
        "string=\"geeksforgeeks\"\n",
        "p=\"\"\n",
        "for char in string:\n",
        "    if char not in p:\n",
        "        p=p+char\n",
        "print(p)\n",
        "k=list(\"geeksforgeeks\")"
      ],
      "metadata": {
        "colab": {
          "base_uri": "https://localhost:8080/"
        },
        "id": "1SvaU0mW3kMU",
        "outputId": "6a08f410-36cc-4d16-d6f9-e82b9debed85"
      },
      "execution_count": 76,
      "outputs": [
        {
          "output_type": "stream",
          "name": "stdout",
          "text": [
            "geksfor\n"
          ]
        }
      ]
    },
    {
      "cell_type": "markdown",
      "source": [
        "46. Implement a function to find the first missing positive"
      ],
      "metadata": {
        "id": "cX73CkIX3o9o"
      }
    },
    {
      "cell_type": "code",
      "source": [
        "def findSmallestMissing(nums):\n",
        "\n",
        "    # initialize the set from array elements\n",
        "    distinct = {*nums}\n",
        "\n",
        "    # return first smallest missing positive number from the set\n",
        "    index = 1\n",
        "    while True:\n",
        "        if index not in distinct:\n",
        "            return index\n",
        "        index += 1\n",
        "\n",
        "\n",
        "if __name__ == '__main__':\n",
        "\n",
        "    nums = [1, 4, 2, -1, 6, 5]\n",
        "    print('The smallest missing positive number from the array is',\n",
        "        findSmallestMissing(nums))\n",
        "\n"
      ],
      "metadata": {
        "colab": {
          "base_uri": "https://localhost:8080/"
        },
        "id": "UAaH2Xw23pyt",
        "outputId": "cc64225e-f647-4d28-d0e4-1acc89dcaf3e"
      },
      "execution_count": 77,
      "outputs": [
        {
          "output_type": "stream",
          "name": "stdout",
          "text": [
            "The smallest missing positive number from the array is 3\n"
          ]
        }
      ]
    }
  ]
}